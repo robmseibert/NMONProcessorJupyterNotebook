{
 "cells": [
  {
   "cell_type": "code",
   "execution_count": 22,
   "metadata": {
    "collapsed": true
   },
   "outputs": [],
   "source": [
    "import win32com.client\n",
    "import openpyxl\n",
    "import os\n",
    "import string\n",
    "from openpyxl import Workbook\n",
    "from openpyxl.styles import Border, Side, NamedStyle, Font, Alignment"
   ]
  },
  {
   "cell_type": "code",
   "execution_count": 23,
   "metadata": {
    "collapsed": true
   },
   "outputs": [],
   "source": [
    "NMONListFile = ('C:/Users/Rob/NMON/NMON-todo.txt')\n",
    "macroFile = ('C:/Users/Rob/NMON/macro_for_nmon.xlsm')\n",
    "analyzerFile = ('C:/Users/Rob/NMON/nmon analyser v34a-batch.xlsm')"
   ]
  },
  {
   "cell_type": "code",
   "execution_count": 24,
   "metadata": {
    "collapsed": true
   },
   "outputs": [],
   "source": [
    "def ExcelAnalyzerProcess():\n",
    "    xlApp = win32com.client.Dispatch(\"Excel.Application\")\n",
    "    xlApp.Visible = ('False')\n",
    "    xlApp.Workbooks.Open(Filename = 'C:/Users/Rob/NMON/nmon analyser v34a-batch.xlsm')\n",
    "    "
   ]
  },
  {
   "cell_type": "code",
   "execution_count": 25,
   "metadata": {
    "collapsed": true
   },
   "outputs": [],
   "source": [
    "def GrabActiveSheet():\n",
    "    excel = win32com.client.Dispatch(\"Excel.Application\")\n",
    "    print(\"Active WB:\", excel.ActiveWorkbook.Name)\n",
    "    for wb in excel.Workbooks:\n",
    "        print(\"WB:\",wb.Name)\n",
    "        os.chdir('/Users/Rob/NMON/nmon_output')\n",
    "        wb.Save()"
   ]
  },
  {
   "cell_type": "code",
   "execution_count": 26,
   "metadata": {
    "collapsed": true
   },
   "outputs": [],
   "source": [
    "def AddPerfSumSheet():\n",
    "    excel = win32com.client.Dispatch(\"Excel.Application\")\n",
    "    wb = excel.Workbooks.Open('/Users/Rob/NMON/nmon_output/Sheet1.xlsx')\n",
    "    ws = wb.Worksheets.Add()\n",
    "    ws.Name = \"PerfSummary\"\n",
    "    wb.SaveAs('PerfSummary.xlsx')\n",
    "    excel.Application.Quit()"
   ]
  },
  {
   "cell_type": "code",
   "execution_count": 27,
   "metadata": {
    "collapsed": true,
    "scrolled": true
   },
   "outputs": [],
   "source": [
    "\n",
    "ExcelAnalyzerProcess()"
   ]
  },
  {
   "cell_type": "code",
   "execution_count": 28,
   "metadata": {
    "scrolled": false
   },
   "outputs": [
    {
     "name": "stdout",
     "output_type": "stream",
     "text": [
      "Active WB: Sheet1\n",
      "WB: Sheet1\n"
     ]
    }
   ],
   "source": [
    "GrabActiveSheet()"
   ]
  },
  {
   "cell_type": "code",
   "execution_count": 29,
   "metadata": {},
   "outputs": [],
   "source": [
    "AddPerfSumSheet()"
   ]
  },
  {
   "cell_type": "code",
   "execution_count": 32,
   "metadata": {
    "collapsed": true
   },
   "outputs": [],
   "source": [
    "def SetPerfTable():\n",
    "    excel = win32com.client.Dispatch(\"Excel.Application\")\n",
    "    fontObj1 = Font(bold=True)\n",
    "    from openpyxl import load_workbook\n",
    "    wb2 = load_workbook('PerfSummary.xlsx')\n",
    "    ws = wb2.get_sheet_by_name('PerfSummary')\n",
    "    sheet = wb2.active\n",
    "    sheet.merge_cells('A1:D1')\n",
    "    sheet.merge_cells('E1:J1')\n",
    "    sheet.merge_cells('K1:P1')\n",
    "    sheet.merge_cells('B2:D2')\n",
    "    sheet.merge_cells('E2:F2')\n",
    "    sheet.merge_cells('G2:H2')\n",
    "    sheet.merge_cells('I2:J2')\n",
    "    sheet.merge_cells('K2:L2')\n",
    "    sheet.merge_cells('M2:N2')\n",
    "    sheet.merge_cells('O2:P2')\n",
    "    sheet['E1'] = 'CPU'\n",
    "    sheet['K1'] = 'Memory'\n",
    "    sheet['B2'] = 'Allocation'\n",
    "    sheet['E2'] = 'PhysicalCPU'\n",
    "    sheet['G2'] = '%Virtual CPU'\n",
    "    sheet['I2'] = 'RunQueue'\n",
    "    sheet['K2'] = 'pgsin'\n",
    "    sheet['M2'] = 'pgsout'\n",
    "    sheet['O2'] = 'Comp. Memory'\n",
    "    sheet['A3'] = 'Server'\n",
    "    sheet['B3'] = 'EC'\n",
    "    sheet['C3'] = 'VP'\n",
    "    sheet['D3'] = 'Mem'\n",
    "    sheet['E3'] = 'Avg'\n",
    "    sheet['G3'] = 'Avg'\n",
    "    sheet['I3'] = 'Avg'\n",
    "    sheet['K3'] = 'Avg'\n",
    "    sheet['M3'] = 'Avg'\n",
    "    sheet['F3'] = 'Max'\n",
    "    sheet['H3'] = 'Max'\n",
    "    sheet['J3'] = 'Max'\n",
    "    sheet['L3'] = 'Max'\n",
    "    sheet['N3'] = 'Max'\n",
    "    sheet['O3'] = 'Avg'\n",
    "    sheet['P3'] = 'Max'\n",
    "    al = Alignment(horizontal=\"center\", vertical=\"center\")\n",
    "    sheet['A1'].font = fontObj1\n",
    "    sheet['E1'].font = fontObj1\n",
    "    e1 = ws['E1']\n",
    "    sheet['K1'].font = fontObj1\n",
    "    k1 = ws['K1']\n",
    "    e1.alignment = al\n",
    "    k1.alignment = al\n",
    "\n",
    "    sheet['B2'].font = fontObj1 \n",
    "    b2 = ws['B2']\n",
    "    b2.alignment = al\n",
    "    sheet['E2'].font = fontObj1 \n",
    "    e2 = ws['E2']\n",
    "    e2.alignment = al\n",
    "\n",
    "    sheet['G2'].font = fontObj1 \n",
    "    g2 = ws['G2']\n",
    "    g2.alignment = al\n",
    "\n",
    "    sheet['I2'].font = fontObj1 \n",
    "    i2 = ws['I2']\n",
    "    i2.alignment = al\n",
    "\n",
    "    sheet['K2'].font = fontObj1\n",
    "    k2 = ws['K2']\n",
    "    k2.alignment = al\n",
    "\n",
    "    sheet['M2'].font = fontObj1 \n",
    "    m2 = ws['M2']\n",
    "    m2.alignment = al\n",
    "    sheet['O2'].font = fontObj1  \n",
    "    o2 = ws['O2']\n",
    "    o2.alignment = al\n",
    "    sheet['A3'].font = fontObj1  \n",
    "    sheet['B3'].font = fontObj1  \n",
    "    sheet['C3'].font = fontObj1 \n",
    "    sheet['D3'].font = fontObj1 \n",
    "    sheet['E3'].font = fontObj1 \n",
    "    sheet['G3'].font = fontObj1 \n",
    "    sheet['I3'].font = fontObj1 \n",
    "    sheet['K3'].font = fontObj1\n",
    "    sheet['M3'].font = fontObj1\n",
    "    sheet['F3'].font = fontObj1\n",
    "    sheet['H3'].font = fontObj1\n",
    "    sheet['J3'].font = fontObj1\n",
    "    sheet['L3'].font = fontObj1\n",
    "    sheet['N3'].font = fontObj1\n",
    "    sheet['O3'].font = fontObj1\n",
    "    sheet['P3'].font = fontObj1\n",
    "    wb2.save('PerfSummary.xlsx')\n",
    "    excel.Application.Quit()\n",
    "    "
   ]
  },
  {
   "cell_type": "code",
   "execution_count": 33,
   "metadata": {},
   "outputs": [],
   "source": [
    "SetPerfTable()"
   ]
  },
  {
   "cell_type": "code",
   "execution_count": null,
   "metadata": {
    "collapsed": true
   },
   "outputs": [],
   "source": []
  },
  {
   "cell_type": "code",
   "execution_count": 3,
   "metadata": {
    "collapsed": true
   },
   "outputs": [],
   "source": [
    "  "
   ]
  },
  {
   "cell_type": "code",
   "execution_count": null,
   "metadata": {
    "collapsed": true
   },
   "outputs": [],
   "source": []
  },
  {
   "cell_type": "code",
   "execution_count": 4,
   "metadata": {
    "collapsed": true
   },
   "outputs": [],
   "source": []
  },
  {
   "cell_type": "code",
   "execution_count": 5,
   "metadata": {
    "collapsed": true
   },
   "outputs": [],
   "source": []
  },
  {
   "cell_type": "markdown",
   "metadata": {},
   "source": [
    "\n",
    "\n"
   ]
  },
  {
   "cell_type": "code",
   "execution_count": 15,
   "metadata": {
    "collapsed": true
   },
   "outputs": [],
   "source": [
    "\n",
    "    "
   ]
  },
  {
   "cell_type": "code",
   "execution_count": null,
   "metadata": {
    "collapsed": true
   },
   "outputs": [],
   "source": []
  }
 ],
 "metadata": {
  "kernelspec": {
   "display_name": "Python 3",
   "language": "python",
   "name": "python3"
  },
  "language_info": {
   "codemirror_mode": {
    "name": "ipython",
    "version": 3
   },
   "file_extension": ".py",
   "mimetype": "text/x-python",
   "name": "python",
   "nbconvert_exporter": "python",
   "pygments_lexer": "ipython3",
   "version": "3.6.2"
  },
  "toc": {
   "colors": {
    "hover_highlight": "#DAA520",
    "running_highlight": "#FF0000",
    "selected_highlight": "#FFD700"
   },
   "moveMenuLeft": true,
   "nav_menu": {
    "height": "12px",
    "width": "252px"
   },
   "navigate_menu": true,
   "number_sections": true,
   "sideBar": true,
   "threshold": 4,
   "toc_cell": false,
   "toc_section_display": "block",
   "toc_window_display": false
  }
 },
 "nbformat": 4,
 "nbformat_minor": 2
}
